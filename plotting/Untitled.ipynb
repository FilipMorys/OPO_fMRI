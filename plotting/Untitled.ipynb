{
 "cells": [
  {
   "cell_type": "code",
   "execution_count": 1,
   "metadata": {},
   "outputs": [],
   "source": [
    "import nilearn\n",
    "from nilearn import plotting"
   ]
  },
  {
   "cell_type": "code",
   "execution_count": 9,
   "metadata": {},
   "outputs": [],
   "source": [
    "Sweetvssavory=nilearn.plotting.plot_stat_map('/data/pt_02187/fMRI_analysis/second_level/Weight_independent_rmANOVA/SweetSavory.nii',\n",
    "                              bg_img='/usr/share/fsl/data/standard/MNI152_T1_1mm_brain.nii.gz',\n",
    "                              cut_coords=None,\n",
    "                              output_file=None,\n",
    "                              display_mode='ortho',\n",
    "                              colorbar=True,\n",
    "                              figure=None,\n",
    "                              title=None,\n",
    "                              annotate=True,\n",
    "                              draw_cross=False,\n",
    "                              black_bg=False,\n",
    "                              symmetric_cbar=True,\n",
    "                              dim='auto',\n",
    "                              #vmax=13,\n",
    "                              resampling_interpolation='continuous',\n",
    "                              cmap='jet')\n",
    "\n",
    "Sweetvssavory.savefig('/data/pt_02187/fMRI_analysis/figures/Figure2.svg')     \n",
    "Sweetvssavory.close()"
   ]
  },
  {
   "cell_type": "code",
   "execution_count": 24,
   "metadata": {},
   "outputs": [],
   "source": [
    "Olfall=nilearn.plotting.plot_stat_map('/data/pt_02187/fMRI_analysis/second_level/AllConditions/All_conds.nii',\n",
    "                              bg_img='/usr/share/fsl/data/standard/MNI152_T1_1mm_brain.nii.gz',\n",
    "                              cut_coords=[-82,-62,-52,-42,-5,-3,-2,0,3,5,8,10,12,14,16,18,28,38,48],\n",
    "                              output_file=None,\n",
    "                              display_mode='y',\n",
    "                              colorbar=True,\n",
    "                              figure=None,\n",
    "                              title=None,\n",
    "                              annotate=True,\n",
    "                              draw_cross=False,\n",
    "                              black_bg=False,\n",
    "                              symmetric_cbar=True,\n",
    "                              dim='auto',\n",
    "                              resampling_interpolation='continuous',\n",
    "                              cmap='jet')\n",
    "\n",
    "Olfall.savefig('/data/pt_02187/fMRI_analysis/figures/Figure1.svg')     \n",
    "Olfall.close()"
   ]
  },
  {
   "cell_type": "code",
   "execution_count": 42,
   "metadata": {},
   "outputs": [],
   "source": [
    "WHR=nilearn.plotting.plot_stat_map('/data/pt_02187/fMRI_analysis/second_level/All_WHR/WHR.nii',\n",
    "                              bg_img='/usr/share/fsl/data/standard/MNI152_T1_1mm_brain.nii.gz',\n",
    "                              cut_coords=[-20, -75, 30],\n",
    "                              output_file=None,\n",
    "                              display_mode='ortho',\n",
    "                              colorbar=True,\n",
    "                              figure=None,\n",
    "                              title=None,\n",
    "                              annotate=True,\n",
    "                              draw_cross=False,\n",
    "                              black_bg=False,\n",
    "                              symmetric_cbar=True,\n",
    "                              dim='auto',\n",
    "                              resampling_interpolation='continuous',\n",
    "                              cmap='jet')\n",
    "\n",
    "WHR.savefig('/data/pt_02187/fMRI_analysis/figures/Figure3.svg')     \n",
    "WHR.close()"
   ]
  },
  {
   "cell_type": "code",
   "execution_count": null,
   "metadata": {},
   "outputs": [],
   "source": []
  }
 ],
 "metadata": {
  "kernelspec": {
   "display_name": "Python 3",
   "language": "python",
   "name": "python3"
  },
  "language_info": {
   "codemirror_mode": {
    "name": "ipython",
    "version": 3
   },
   "file_extension": ".py",
   "mimetype": "text/x-python",
   "name": "python",
   "nbconvert_exporter": "python",
   "pygments_lexer": "ipython3",
   "version": "3.8.1"
  }
 },
 "nbformat": 4,
 "nbformat_minor": 2
}
