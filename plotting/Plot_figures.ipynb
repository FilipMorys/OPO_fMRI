{
 "cells": [
  {
   "cell_type": "code",
   "execution_count": 2,
   "metadata": {},
   "outputs": [],
   "source": [
    "import nilearn\n",
    "from nilearn import plotting"
   ]
  },
  {
   "cell_type": "code",
   "execution_count": 17,
   "metadata": {},
   "outputs": [],
   "source": [
    "Sweetvssavory=nilearn.plotting.plot_stat_map('/data/pt_02187/fMRI_analysis/second_level/Weight_independent_rmANOVA/SS.nii',\n",
    "                              bg_img='/usr/share/fsl/data/standard/MNI152_T1_1mm_brain.nii.gz',\n",
    "                              cut_coords=None,\n",
    "                              output_file=None,\n",
    "                              display_mode='ortho',\n",
    "                              colorbar=True,\n",
    "                              figure=None,\n",
    "                              title=None,\n",
    "                              annotate=True,\n",
    "                              draw_cross=False,\n",
    "                              black_bg=False,\n",
    "                              #symmetric_cbar=True,\n",
    "                              dim='auto',\n",
    "                              #vmax=13,\n",
    "                              resampling_interpolation='continuous',\n",
    "                              cmap='jet')\n",
    "\n",
    "Sweetvssavory.savefig('/data/pt_02187/fMRI_analysis/figures/Figure2.tif')     \n",
    "Sweetvssavory.close()"
   ]
  },
  {
   "cell_type": "code",
   "execution_count": 16,
   "metadata": {},
   "outputs": [],
   "source": [
    "Olfall=nilearn.plotting.plot_stat_map('/data/pt_02187/fMRI_analysis/second_level/AllConditions/All.nii',\n",
    "                              bg_img='/usr/share/fsl/data/standard/MNI152_T1_1mm_brain.nii.gz',\n",
    "                              cut_coords=[-82,-47,1,16,34],\n",
    "                              #cut_coords=[-10, -10, 10],\n",
    "                              output_file=None,\n",
    "                              display_mode='y',\n",
    "                              colorbar=True,\n",
    "                              figure=None,\n",
    "                              title=None,\n",
    "                              annotate=True,\n",
    "                              draw_cross=False,\n",
    "                              black_bg=False,\n",
    "                              #symmetric_cbar=True,\n",
    "                              dim='auto',\n",
    "                              resampling_interpolation='continuous',\n",
    "                              cmap='jet')\n",
    "\n",
    "Olfall.savefig('/data/pt_02187/fMRI_analysis/figures/Figure1.tif')     \n",
    "Olfall.close()"
   ]
  },
  {
   "cell_type": "code",
   "execution_count": 19,
   "metadata": {},
   "outputs": [],
   "source": [
    "WHR=nilearn.plotting.plot_stat_map('/data/pt_02187/fMRI_analysis/second_level/AllConditions_WHR/WHR.nii',\n",
    "                              bg_img='/usr/share/fsl/data/standard/MNI152_T1_1mm_brain.nii.gz',\n",
    "                              cut_coords=[-20, -75, 30],\n",
    "                              output_file=None,\n",
    "                              display_mode='ortho',\n",
    "                              colorbar=True,\n",
    "                              figure=None,\n",
    "                              title=None,\n",
    "                              annotate=True,\n",
    "                              draw_cross=False,\n",
    "                              black_bg=False,\n",
    "                              #symmetric_cbar=True,\n",
    "                              dim='auto',\n",
    "                              resampling_interpolation='continuous',\n",
    "                              cmap='winter')\n",
    "\n",
    "WHR.savefig('/data/pt_02187/fMRI_analysis/figures/WHR.svg')     \n",
    "WHR.close()"
   ]
  },
  {
   "cell_type": "code",
   "execution_count": 18,
   "metadata": {},
   "outputs": [],
   "source": [
    "IR=nilearn.plotting.plot_stat_map('/data/pt_02187/fMRI_analysis/second_level/IR_group_covariates/IR.nii',\n",
    "                              bg_img='/usr/share/fsl/data/standard/MNI152_T1_1mm_brain.nii.gz',\n",
    "                              #cut_coords=[-20, -75, 30],\n",
    "                              output_file=None,\n",
    "                              display_mode='ortho',\n",
    "                              colorbar=True,\n",
    "                              figure=None,\n",
    "                              title=None,\n",
    "                              annotate=True,\n",
    "                              draw_cross=False,\n",
    "                              black_bg=False,\n",
    "                              #symmetric_cbar=True,\n",
    "                              dim='auto',\n",
    "                              resampling_interpolation='continuous',\n",
    "                              cmap='jet')\n",
    "\n",
    "IR.savefig('/data/pt_02187/fMRI_analysis/figures/IR.svg')     \n",
    "IR.close()"
   ]
  },
  {
   "cell_type": "code",
   "execution_count": null,
   "metadata": {},
   "outputs": [],
   "source": []
  }
 ],
 "metadata": {
  "kernelspec": {
   "display_name": "Python 3",
   "language": "python",
   "name": "python3"
  },
  "language_info": {
   "codemirror_mode": {
    "name": "ipython",
    "version": 3
   },
   "file_extension": ".py",
   "mimetype": "text/x-python",
   "name": "python",
   "nbconvert_exporter": "python",
   "pygments_lexer": "ipython3",
   "version": "3.8.1"
  }
 },
 "nbformat": 4,
 "nbformat_minor": 2
}
