{
 "cells": [
  {
   "cell_type": "code",
   "execution_count": 1,
   "metadata": {},
   "outputs": [
    {
     "name": "stderr",
     "output_type": "stream",
     "text": [
      "Loading required package: MASS\n",
      "Loading required package: Matrix\n",
      "Loading required package: mvtnorm\n",
      "Loading required package: sandwich\n",
      "mediation: Causal Mediation Analysis\n",
      "Version: 4.5.0\n",
      "\n"
     ]
    }
   ],
   "source": [
    "library(mediation)"
   ]
  },
  {
   "cell_type": "markdown",
   "metadata": {},
   "source": [
    "# Mediation analysis BMI -> HOMA_IR -> Brain activity in extracted ROIs"
   ]
  },
  {
   "cell_type": "code",
   "execution_count": null,
   "metadata": {},
   "outputs": [],
   "source": [
    "ROI=read.table('/dagher/dagher11/filip/Downloads/ROIs_extracted_orange(1).csv',sep=',',header=TRUE)\n",
    "\n",
    "Stats=matrix(nrow=12,ncol=10) # CT variables\n",
    "index=1\n",
    "\n",
    "med.fit <- lm(scale(HOMA_IR) ~\n",
    "                scale(BMI) +\n",
    "                scale(Age) +\n",
    "                as.factor(Sex), data=ROI)\n",
    "\n",
    "ROI_list=c('ACC','Amygdala','Caudate','Hippocampus','Insula','NAcc','Orbitofrontal','Pallidum','Piriform','Putamen','VmPFC','VTA')\n",
    "\n",
    "for (i in c(1:12)) { #All ROIs\n",
    "  \n",
    "  out.fit <- lm(scale(ROI[grep(ROI_list[i],colnames(ROI))]) ~ \n",
    "                  scale(HOMA_IR) +\n",
    "                  scale(BMI) +\n",
    "                  scale(Age) +\n",
    "                  as.factor(Sex), data=ROI)\n",
    "  \n",
    "  med.out <- mediate(med.fit, out.fit, treat='scale(BMI)',\n",
    "                     mediator='scale(HOMA_IR)',\n",
    "                     robustSE=TRUE,\n",
    "                     sims=1000, data=ROI)\n",
    "  \n",
    "  med2dep <- summary(lm(scale(ROI[grep(ROI_list[i],colnames(ROI))]) ~ \n",
    "                          scale(HOMA_IR) +\n",
    "                          scale(Age) +\n",
    "                          as.factor(Sex), data=ROI)) \n",
    "  \n",
    "  \n",
    "  Stats[index,][1]=ROI_list[i]\n",
    "  Stats[index,][2]=med.out$d0 # ACME estimate\n",
    "  Stats[index,][3]=med.out$d0.p # ACME p-value\n",
    "  Stats[index,][4]=med.out$z0 # ADE e\n",
    "  Stats[index,][5]=med.out$z0.p # ADE p\n",
    "  Stats[index,][6]=med.out$tau.coef # Total e\n",
    "  Stats[index,][7]=med.out$tau.p # Total p\n",
    "  Stats[index,][8]=med.out$n0 # Proportion mediated e\n",
    "  Stats[index,][9]=med.out$n0.p # Proportion mediated p\n",
    "  Stats[index,][10]=med2dep$coefficients[2,][4] # p-value of WMH -> CT\n",
    "  \n",
    "  \n",
    "  index=index+1\n",
    "}\n",
    "Stats_adj=Stats\n",
    "Stats_adj[,3]=p.adjust(Stats_adj[,3], method = 'BH')\n",
    "Stats_adj[,5]=p.adjust(Stats_adj[,5], method = 'BH')\n",
    "Stats_adj[,7]=p.adjust(Stats_adj[,7], method = 'BH')\n",
    "Stats_adj[,9]=p.adjust(Stats_adj[,9], method = 'BH')\n",
    "Stats_adj[,10]=p.adjust(Stats_adj[,10], method = 'BH')\n",
    "\n",
    "Stats_adj=as.data.frame(Stats_adj)\n",
    "colnames(Stats_adj)=c('ROI','ACMEest','ACMEp','ADEest','ADEp','Totalest','Totalp','Proportionest','Proportionp','Med2Depp')\n",
    "\n",
    "  "
   ]
  },
  {
   "cell_type": "code",
   "execution_count": null,
   "metadata": {},
   "outputs": [],
   "source": [
    "Stats_adj"
   ]
  },
  {
   "cell_type": "code",
   "execution_count": null,
   "metadata": {},
   "outputs": [],
   "source": []
  }
 ],
 "metadata": {
  "kernelspec": {
   "display_name": "R",
   "language": "R",
   "name": "ir"
  },
  "language_info": {
   "codemirror_mode": "r",
   "file_extension": ".r",
   "mimetype": "text/x-r-source",
   "name": "R",
   "pygments_lexer": "r",
   "version": "3.6.1"
  }
 },
 "nbformat": 4,
 "nbformat_minor": 2
}
